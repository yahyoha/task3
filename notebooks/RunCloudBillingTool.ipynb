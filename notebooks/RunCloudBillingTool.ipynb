{
 "cells": [
  {
   "cell_type": "code",
   "source": [
    "print(\"Starting Spark POOL Session\")\n",
    "\n",
    "from cloudbillingtool import all_billing\n",
    "\n",
    "import pkg_resources\n",
    "print( pkg_resources.get_distribution('cloudbillingtool').version )"
   ],
   "outputs": [],
   "execution_count": null,
   "metadata": {}
  },
  {
   "cell_type": "code",
   "source": [
    "storage_account=\"cloudbillingtoolsa\"\n",
    "azure_data=\"abfss://azurebilling@\"+storage_account+\".dfs.core.windows.net/monthly/SenecBillingReport/*/*.csv\"\n",
    "hetzner_data=\"abfss://hetznerbilling@\"+storage_account+\".dfs.core.windows.net/*.csv\"\n",
    "metadata_dir=\"abfss://metadata@\"+storage_account+\".dfs.core.windows.net/\"\n",
    "output_dir=\"abfss://allbilling@\"+storage_account+\".dfs.core.windows.net\""
   ],
   "outputs": [],
   "execution_count": null,
   "metadata": {
    "jupyter": {
     "source_hidden": false,
     "outputs_hidden": false
    },
    "nteract": {
     "transient": {
      "deleting": false
     }
    }
   }
  },
  {
   "cell_type": "code",
   "source": [
    "# compute the all_billing_data\n",
    "all_billing_data = all_billing.generate_uniform_data_from(spark, azure_data, hetzner_data, \"aws not implemented\", metadata_dir )"
   ],
   "outputs": [],
   "execution_count": null,
   "metadata": {
    "jupyter": {
     "source_hidden": false,
     "outputs_hidden": false
    },
    "nteract": {
     "transient": {
      "deleting": false
     }
    }
   }
  },
  {
   "cell_type": "code",
   "source": [
    "# For Debugging\n",
    "#all_billing.toDF().show()\n",
    "#all_billing_df = all_billing.toDF()\n",
    "#all_billing_df.toPandas().head(100)"
   ],
   "outputs": [],
   "execution_count": null,
   "metadata": {
    "jupyter": {
     "source_hidden": false,
     "outputs_hidden": false
    },
    "nteract": {
     "transient": {
      "deleting": false
     }
    }
   }
  },
  {
   "cell_type": "code",
   "source": [
    "all_billing_df = all_billing_data.toDF()\n",
    "all_billing_df.write \\\n",
    "    .format(\"com.microsoft.kusto.spark.synapse.datasource\") \\\n",
    "    .option(\"spark.synapse.linkedService\", \"AzureDataExplorerCloudBilling\") \\\n",
    "    .option(\"kustoDatabase\", \"senecallbillingdb\") \\\n",
    "    .option(\"kustoTable\", \"AllBilling\") \\\n",
    "    .option(\"tableCreateOptions\",\"CreateIfNotExist\") \\\n",
    "    .mode(\"Append\") \\\n",
    "    .save()"
   ],
   "outputs": [],
   "execution_count": null,
   "metadata": {
    "jupyter": {
     "source_hidden": false,
     "outputs_hidden": false
    },
    "nteract": {
     "transient": {
      "deleting": false
     }
    }
   }
  },
  {
   "cell_type": "code",
   "source": [
    "from pyspark.sql.functions import explode\n",
    "df_distinct_tags = all_billing_df.select( explode(\"CostResourceTag\").alias(\"CostResourceTag\") ).distinct()\n",
    "    \n",
    "df_distinct_tags.write \\\n",
    "    .format(\"com.microsoft.kusto.spark.synapse.datasource\") \\\n",
    "    .option(\"spark.synapse.linkedService\", \"AzureDataExplorerCloudBilling\") \\\n",
    "    .option(\"kustoDatabase\", \"senecallbillingdb\") \\\n",
    "    .option(\"kustoTable\", \"CostResourceTags\") \\\n",
    "    .option(\"tableCreateOptions\",\"CreateIfNotExist\") \\\n",
    "    .mode(\"Append\") \\\n",
    "    .save()\n"
   ],
   "outputs": [],
   "execution_count": null,
   "metadata": {
    "jupyter": {
     "source_hidden": false,
     "outputs_hidden": false
    },
    "nteract": {
     "transient": {
      "deleting": false
     }
    }
   }
  }
 ],
 "metadata": {
  "kernelspec": {
   "name": "synapse_pyspark",
   "language": "Python",
   "display_name": "Synapse PySpark"
  },
  "language_info": {
   "name": "python"
  },
  "kernel_info": {
   "name": "synapse_pyspark"
  },
  "description": null,
  "save_output": true,
  "synapse_widget": {
   "version": "0.1",
   "state": {}
  }
 },
 "nbformat": 4,
 "nbformat_minor": 2
}
